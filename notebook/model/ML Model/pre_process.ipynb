{
  "cells": [
    {
      "cell_type": "markdown",
      "metadata": {
        "id": "view-in-github",
        "colab_type": "text"
      },
      "source": [
        "<a href=\"https://colab.research.google.com/github/daemonX10/GSTN/blob/main/pre_process.ipynb\" target=\"_parent\"><img src=\"https://colab.research.google.com/assets/colab-badge.svg\" alt=\"Open In Colab\"/></a>"
      ]
    },
    {
      "cell_type": "code",
      "execution_count": 1,
      "metadata": {
        "id": "LbV31KVdWpof"
      },
      "outputs": [],
      "source": [
        "import pandas as pd"
      ]
    },
    {
      "cell_type": "code",
      "execution_count": 2,
      "metadata": {
        "id": "bMjDqzLsWpog"
      },
      "outputs": [],
      "source": [
        "import numpy as np"
      ]
    },
    {
      "cell_type": "code",
      "execution_count": 4,
      "metadata": {
        "id": "ZbVPwS-JWpoh"
      },
      "outputs": [],
      "source": [
        "X_train = pd.read_csv('/content/X_Train_Data_Input.csv')\n",
        "y_train = pd.read_csv('/content/Y_Train_Data_Target.csv')\n"
      ]
    },
    {
      "cell_type": "code",
      "source": [
        "X_test = pd.read_csv('/content/X_Test_Data_Input.csv')\n",
        "y_test = pd.read_csv('/content/Y_Test_Data_Target.csv')"
      ],
      "metadata": {
        "id": "4GDyA8ZVdbku"
      },
      "execution_count": 5,
      "outputs": []
    },
    {
      "cell_type": "code",
      "source": [
        "X_test.drop(columns=['ID'],inplace=True)\n",
        "y_test.drop(columns=['ID'],inplace=True)\n",
        "X_train.drop(columns=['ID'],inplace=True)\n",
        "y_train.drop(columns=['ID'],inplace=True)"
      ],
      "metadata": {
        "id": "JnpUFDFcdt-h"
      },
      "execution_count": 6,
      "outputs": []
    },
    {
      "cell_type": "code",
      "execution_count": 7,
      "metadata": {
        "id": "YBRLYG5mWpoh",
        "outputId": "29ef012d-4d3a-446c-a69b-51441b0ff295",
        "colab": {
          "base_uri": "https://localhost:8080/"
        },
        "collapsed": true
      },
      "outputs": [
        {
          "output_type": "stream",
          "name": "stderr",
          "text": [
            "<ipython-input-7-82b790460ce2>:3: FutureWarning: A value is trying to be set on a copy of a DataFrame or Series through chained assignment using an inplace method.\n",
            "The behavior will change in pandas 3.0. This inplace method will never work because the intermediate object on which we are setting values always behaves as a copy.\n",
            "\n",
            "For example, when doing 'df[col].method(value, inplace=True)', try using 'df.method({col: value}, inplace=True)' or df[col] = df[col].method(value) instead, to perform the operation inplace on the original object.\n",
            "\n",
            "\n",
            "  X_train[column].fillna(mode_value, inplace=True)\n",
            "<ipython-input-7-82b790460ce2>:5: FutureWarning: A value is trying to be set on a copy of a DataFrame or Series through chained assignment using an inplace method.\n",
            "The behavior will change in pandas 3.0. This inplace method will never work because the intermediate object on which we are setting values always behaves as a copy.\n",
            "\n",
            "For example, when doing 'df[col].method(value, inplace=True)', try using 'df.method({col: value}, inplace=True)' or df[col] = df[col].method(value) instead, to perform the operation inplace on the original object.\n",
            "\n",
            "\n",
            "  X_test[column].fillna(test_value, inplace=True)\n",
            "<ipython-input-7-82b790460ce2>:3: FutureWarning: A value is trying to be set on a copy of a DataFrame or Series through chained assignment using an inplace method.\n",
            "The behavior will change in pandas 3.0. This inplace method will never work because the intermediate object on which we are setting values always behaves as a copy.\n",
            "\n",
            "For example, when doing 'df[col].method(value, inplace=True)', try using 'df.method({col: value}, inplace=True)' or df[col] = df[col].method(value) instead, to perform the operation inplace on the original object.\n",
            "\n",
            "\n",
            "  X_train[column].fillna(mode_value, inplace=True)\n",
            "<ipython-input-7-82b790460ce2>:5: FutureWarning: A value is trying to be set on a copy of a DataFrame or Series through chained assignment using an inplace method.\n",
            "The behavior will change in pandas 3.0. This inplace method will never work because the intermediate object on which we are setting values always behaves as a copy.\n",
            "\n",
            "For example, when doing 'df[col].method(value, inplace=True)', try using 'df.method({col: value}, inplace=True)' or df[col] = df[col].method(value) instead, to perform the operation inplace on the original object.\n",
            "\n",
            "\n",
            "  X_test[column].fillna(test_value, inplace=True)\n",
            "<ipython-input-7-82b790460ce2>:3: FutureWarning: A value is trying to be set on a copy of a DataFrame or Series through chained assignment using an inplace method.\n",
            "The behavior will change in pandas 3.0. This inplace method will never work because the intermediate object on which we are setting values always behaves as a copy.\n",
            "\n",
            "For example, when doing 'df[col].method(value, inplace=True)', try using 'df.method({col: value}, inplace=True)' or df[col] = df[col].method(value) instead, to perform the operation inplace on the original object.\n",
            "\n",
            "\n",
            "  X_train[column].fillna(mode_value, inplace=True)\n"
          ]
        },
        {
          "output_type": "stream",
          "name": "stdout",
          "text": [
            "Column0     0\n",
            "Column1     0\n",
            "Column2     0\n",
            "Column3     0\n",
            "Column4     0\n",
            "Column5     0\n",
            "Column6     0\n",
            "Column7     0\n",
            "Column8     0\n",
            "Column9     0\n",
            "Column10    0\n",
            "Column11    0\n",
            "Column12    0\n",
            "Column13    0\n",
            "Column14    0\n",
            "Column15    0\n",
            "Column16    0\n",
            "Column17    0\n",
            "Column18    0\n",
            "Column19    0\n",
            "Column20    0\n",
            "Column21    0\n",
            "dtype: int64\n"
          ]
        },
        {
          "output_type": "stream",
          "name": "stderr",
          "text": [
            "<ipython-input-7-82b790460ce2>:3: FutureWarning: A value is trying to be set on a copy of a DataFrame or Series through chained assignment using an inplace method.\n",
            "The behavior will change in pandas 3.0. This inplace method will never work because the intermediate object on which we are setting values always behaves as a copy.\n",
            "\n",
            "For example, when doing 'df[col].method(value, inplace=True)', try using 'df.method({col: value}, inplace=True)' or df[col] = df[col].method(value) instead, to perform the operation inplace on the original object.\n",
            "\n",
            "\n",
            "  X_train[column].fillna(mode_value, inplace=True)\n",
            "<ipython-input-7-82b790460ce2>:5: FutureWarning: A value is trying to be set on a copy of a DataFrame or Series through chained assignment using an inplace method.\n",
            "The behavior will change in pandas 3.0. This inplace method will never work because the intermediate object on which we are setting values always behaves as a copy.\n",
            "\n",
            "For example, when doing 'df[col].method(value, inplace=True)', try using 'df.method({col: value}, inplace=True)' or df[col] = df[col].method(value) instead, to perform the operation inplace on the original object.\n",
            "\n",
            "\n",
            "  X_test[column].fillna(test_value, inplace=True)\n",
            "<ipython-input-7-82b790460ce2>:3: FutureWarning: A value is trying to be set on a copy of a DataFrame or Series through chained assignment using an inplace method.\n",
            "The behavior will change in pandas 3.0. This inplace method will never work because the intermediate object on which we are setting values always behaves as a copy.\n",
            "\n",
            "For example, when doing 'df[col].method(value, inplace=True)', try using 'df.method({col: value}, inplace=True)' or df[col] = df[col].method(value) instead, to perform the operation inplace on the original object.\n",
            "\n",
            "\n",
            "  X_train[column].fillna(mode_value, inplace=True)\n",
            "<ipython-input-7-82b790460ce2>:5: FutureWarning: A value is trying to be set on a copy of a DataFrame or Series through chained assignment using an inplace method.\n",
            "The behavior will change in pandas 3.0. This inplace method will never work because the intermediate object on which we are setting values always behaves as a copy.\n",
            "\n",
            "For example, when doing 'df[col].method(value, inplace=True)', try using 'df.method({col: value}, inplace=True)' or df[col] = df[col].method(value) instead, to perform the operation inplace on the original object.\n",
            "\n",
            "\n",
            "  X_test[column].fillna(test_value, inplace=True)\n",
            "<ipython-input-7-82b790460ce2>:3: FutureWarning: A value is trying to be set on a copy of a DataFrame or Series through chained assignment using an inplace method.\n",
            "The behavior will change in pandas 3.0. This inplace method will never work because the intermediate object on which we are setting values always behaves as a copy.\n",
            "\n",
            "For example, when doing 'df[col].method(value, inplace=True)', try using 'df.method({col: value}, inplace=True)' or df[col] = df[col].method(value) instead, to perform the operation inplace on the original object.\n",
            "\n",
            "\n",
            "  X_train[column].fillna(mode_value, inplace=True)\n",
            "<ipython-input-7-82b790460ce2>:5: FutureWarning: A value is trying to be set on a copy of a DataFrame or Series through chained assignment using an inplace method.\n",
            "The behavior will change in pandas 3.0. This inplace method will never work because the intermediate object on which we are setting values always behaves as a copy.\n",
            "\n",
            "For example, when doing 'df[col].method(value, inplace=True)', try using 'df.method({col: value}, inplace=True)' or df[col] = df[col].method(value) instead, to perform the operation inplace on the original object.\n",
            "\n",
            "\n",
            "  X_test[column].fillna(test_value, inplace=True)\n",
            "<ipython-input-7-82b790460ce2>:3: FutureWarning: A value is trying to be set on a copy of a DataFrame or Series through chained assignment using an inplace method.\n",
            "The behavior will change in pandas 3.0. This inplace method will never work because the intermediate object on which we are setting values always behaves as a copy.\n",
            "\n",
            "For example, when doing 'df[col].method(value, inplace=True)', try using 'df.method({col: value}, inplace=True)' or df[col] = df[col].method(value) instead, to perform the operation inplace on the original object.\n",
            "\n",
            "\n",
            "  X_train[column].fillna(mode_value, inplace=True)\n",
            "<ipython-input-7-82b790460ce2>:5: FutureWarning: A value is trying to be set on a copy of a DataFrame or Series through chained assignment using an inplace method.\n",
            "The behavior will change in pandas 3.0. This inplace method will never work because the intermediate object on which we are setting values always behaves as a copy.\n",
            "\n",
            "For example, when doing 'df[col].method(value, inplace=True)', try using 'df.method({col: value}, inplace=True)' or df[col] = df[col].method(value) instead, to perform the operation inplace on the original object.\n",
            "\n",
            "\n",
            "  X_test[column].fillna(test_value, inplace=True)\n",
            "<ipython-input-7-82b790460ce2>:3: FutureWarning: A value is trying to be set on a copy of a DataFrame or Series through chained assignment using an inplace method.\n",
            "The behavior will change in pandas 3.0. This inplace method will never work because the intermediate object on which we are setting values always behaves as a copy.\n",
            "\n",
            "For example, when doing 'df[col].method(value, inplace=True)', try using 'df.method({col: value}, inplace=True)' or df[col] = df[col].method(value) instead, to perform the operation inplace on the original object.\n",
            "\n",
            "\n",
            "  X_train[column].fillna(mode_value, inplace=True)\n",
            "<ipython-input-7-82b790460ce2>:3: FutureWarning: A value is trying to be set on a copy of a DataFrame or Series through chained assignment using an inplace method.\n",
            "The behavior will change in pandas 3.0. This inplace method will never work because the intermediate object on which we are setting values always behaves as a copy.\n",
            "\n",
            "For example, when doing 'df[col].method(value, inplace=True)', try using 'df.method({col: value}, inplace=True)' or df[col] = df[col].method(value) instead, to perform the operation inplace on the original object.\n",
            "\n",
            "\n",
            "  X_train[column].fillna(mode_value, inplace=True)\n",
            "<ipython-input-7-82b790460ce2>:5: FutureWarning: A value is trying to be set on a copy of a DataFrame or Series through chained assignment using an inplace method.\n",
            "The behavior will change in pandas 3.0. This inplace method will never work because the intermediate object on which we are setting values always behaves as a copy.\n",
            "\n",
            "For example, when doing 'df[col].method(value, inplace=True)', try using 'df.method({col: value}, inplace=True)' or df[col] = df[col].method(value) instead, to perform the operation inplace on the original object.\n",
            "\n",
            "\n",
            "  X_test[column].fillna(test_value, inplace=True)\n",
            "<ipython-input-7-82b790460ce2>:3: FutureWarning: A value is trying to be set on a copy of a DataFrame or Series through chained assignment using an inplace method.\n",
            "The behavior will change in pandas 3.0. This inplace method will never work because the intermediate object on which we are setting values always behaves as a copy.\n",
            "\n",
            "For example, when doing 'df[col].method(value, inplace=True)', try using 'df.method({col: value}, inplace=True)' or df[col] = df[col].method(value) instead, to perform the operation inplace on the original object.\n",
            "\n",
            "\n",
            "  X_train[column].fillna(mode_value, inplace=True)\n",
            "<ipython-input-7-82b790460ce2>:3: FutureWarning: A value is trying to be set on a copy of a DataFrame or Series through chained assignment using an inplace method.\n",
            "The behavior will change in pandas 3.0. This inplace method will never work because the intermediate object on which we are setting values always behaves as a copy.\n",
            "\n",
            "For example, when doing 'df[col].method(value, inplace=True)', try using 'df.method({col: value}, inplace=True)' or df[col] = df[col].method(value) instead, to perform the operation inplace on the original object.\n",
            "\n",
            "\n",
            "  X_train[column].fillna(mode_value, inplace=True)\n",
            "<ipython-input-7-82b790460ce2>:5: FutureWarning: A value is trying to be set on a copy of a DataFrame or Series through chained assignment using an inplace method.\n",
            "The behavior will change in pandas 3.0. This inplace method will never work because the intermediate object on which we are setting values always behaves as a copy.\n",
            "\n",
            "For example, when doing 'df[col].method(value, inplace=True)', try using 'df.method({col: value}, inplace=True)' or df[col] = df[col].method(value) instead, to perform the operation inplace on the original object.\n",
            "\n",
            "\n",
            "  X_test[column].fillna(test_value, inplace=True)\n",
            "<ipython-input-7-82b790460ce2>:3: FutureWarning: A value is trying to be set on a copy of a DataFrame or Series through chained assignment using an inplace method.\n",
            "The behavior will change in pandas 3.0. This inplace method will never work because the intermediate object on which we are setting values always behaves as a copy.\n",
            "\n",
            "For example, when doing 'df[col].method(value, inplace=True)', try using 'df.method({col: value}, inplace=True)' or df[col] = df[col].method(value) instead, to perform the operation inplace on the original object.\n",
            "\n",
            "\n",
            "  X_train[column].fillna(mode_value, inplace=True)\n",
            "<ipython-input-7-82b790460ce2>:5: FutureWarning: A value is trying to be set on a copy of a DataFrame or Series through chained assignment using an inplace method.\n",
            "The behavior will change in pandas 3.0. This inplace method will never work because the intermediate object on which we are setting values always behaves as a copy.\n",
            "\n",
            "For example, when doing 'df[col].method(value, inplace=True)', try using 'df.method({col: value}, inplace=True)' or df[col] = df[col].method(value) instead, to perform the operation inplace on the original object.\n",
            "\n",
            "\n",
            "  X_test[column].fillna(test_value, inplace=True)\n",
            "<ipython-input-7-82b790460ce2>:3: FutureWarning: A value is trying to be set on a copy of a DataFrame or Series through chained assignment using an inplace method.\n",
            "The behavior will change in pandas 3.0. This inplace method will never work because the intermediate object on which we are setting values always behaves as a copy.\n",
            "\n",
            "For example, when doing 'df[col].method(value, inplace=True)', try using 'df.method({col: value}, inplace=True)' or df[col] = df[col].method(value) instead, to perform the operation inplace on the original object.\n",
            "\n",
            "\n",
            "  X_train[column].fillna(mode_value, inplace=True)\n",
            "<ipython-input-7-82b790460ce2>:5: FutureWarning: A value is trying to be set on a copy of a DataFrame or Series through chained assignment using an inplace method.\n",
            "The behavior will change in pandas 3.0. This inplace method will never work because the intermediate object on which we are setting values always behaves as a copy.\n",
            "\n",
            "For example, when doing 'df[col].method(value, inplace=True)', try using 'df.method({col: value}, inplace=True)' or df[col] = df[col].method(value) instead, to perform the operation inplace on the original object.\n",
            "\n",
            "\n",
            "  X_test[column].fillna(test_value, inplace=True)\n"
          ]
        }
      ],
      "source": [
        "for column in X_train.columns:\n",
        "    mode_value = X_train[column].mode()[0]\n",
        "    X_train[column].fillna(mode_value, inplace=True)\n",
        "    test_value= X_test[column].mode()[0]\n",
        "    X_test[column].fillna(test_value, inplace=True)\n",
        "\n",
        "print(X_train.isna().sum())"
      ]
    },
    {
      "cell_type": "code",
      "execution_count": 8,
      "metadata": {
        "id": "_0vHgfIuWpoi",
        "colab": {
          "base_uri": "https://localhost:8080/"
        },
        "outputId": "ff82a137-9ab4-4dd5-c3cf-65e6d80dfb39"
      },
      "outputs": [
        {
          "output_type": "stream",
          "name": "stdout",
          "text": [
            "Collecting catboost\n",
            "  Downloading catboost-1.2.7-cp310-cp310-manylinux2014_x86_64.whl.metadata (1.2 kB)\n",
            "Requirement already satisfied: graphviz in /usr/local/lib/python3.10/dist-packages (from catboost) (0.20.3)\n",
            "Requirement already satisfied: matplotlib in /usr/local/lib/python3.10/dist-packages (from catboost) (3.7.1)\n",
            "Requirement already satisfied: numpy<2.0,>=1.16.0 in /usr/local/lib/python3.10/dist-packages (from catboost) (1.26.4)\n",
            "Requirement already satisfied: pandas>=0.24 in /usr/local/lib/python3.10/dist-packages (from catboost) (2.2.2)\n",
            "Requirement already satisfied: scipy in /usr/local/lib/python3.10/dist-packages (from catboost) (1.13.1)\n",
            "Requirement already satisfied: plotly in /usr/local/lib/python3.10/dist-packages (from catboost) (5.24.1)\n",
            "Requirement already satisfied: six in /usr/local/lib/python3.10/dist-packages (from catboost) (1.16.0)\n",
            "Requirement already satisfied: python-dateutil>=2.8.2 in /usr/local/lib/python3.10/dist-packages (from pandas>=0.24->catboost) (2.8.2)\n",
            "Requirement already satisfied: pytz>=2020.1 in /usr/local/lib/python3.10/dist-packages (from pandas>=0.24->catboost) (2024.2)\n",
            "Requirement already satisfied: tzdata>=2022.7 in /usr/local/lib/python3.10/dist-packages (from pandas>=0.24->catboost) (2024.2)\n",
            "Requirement already satisfied: contourpy>=1.0.1 in /usr/local/lib/python3.10/dist-packages (from matplotlib->catboost) (1.3.0)\n",
            "Requirement already satisfied: cycler>=0.10 in /usr/local/lib/python3.10/dist-packages (from matplotlib->catboost) (0.12.1)\n",
            "Requirement already satisfied: fonttools>=4.22.0 in /usr/local/lib/python3.10/dist-packages (from matplotlib->catboost) (4.54.1)\n",
            "Requirement already satisfied: kiwisolver>=1.0.1 in /usr/local/lib/python3.10/dist-packages (from matplotlib->catboost) (1.4.7)\n",
            "Requirement already satisfied: packaging>=20.0 in /usr/local/lib/python3.10/dist-packages (from matplotlib->catboost) (24.1)\n",
            "Requirement already satisfied: pillow>=6.2.0 in /usr/local/lib/python3.10/dist-packages (from matplotlib->catboost) (10.4.0)\n",
            "Requirement already satisfied: pyparsing>=2.3.1 in /usr/local/lib/python3.10/dist-packages (from matplotlib->catboost) (3.1.4)\n",
            "Requirement already satisfied: tenacity>=6.2.0 in /usr/local/lib/python3.10/dist-packages (from plotly->catboost) (9.0.0)\n",
            "Downloading catboost-1.2.7-cp310-cp310-manylinux2014_x86_64.whl (98.7 MB)\n",
            "\u001b[2K   \u001b[90m━━━━━━━━━━━━━━━━━━━━━━━━━━━━━━━━━━━━━━━━\u001b[0m \u001b[32m98.7/98.7 MB\u001b[0m \u001b[31m6.8 MB/s\u001b[0m eta \u001b[36m0:00:00\u001b[0m\n",
            "\u001b[?25hInstalling collected packages: catboost\n",
            "Successfully installed catboost-1.2.7\n"
          ]
        }
      ],
      "source": [
        "!pip install catboost\n"
      ]
    },
    {
      "cell_type": "code",
      "execution_count": 9,
      "metadata": {
        "id": "rXsCiKHmWpoi"
      },
      "outputs": [],
      "source": [
        "from sklearn.ensemble import (\n",
        "    AdaBoostClassifier, BaggingClassifier, ExtraTreesClassifier,\n",
        "    GradientBoostingClassifier, HistGradientBoostingClassifier,\n",
        "    RandomForestClassifier, StackingClassifier\n",
        ")\n",
        "from sklearn.naive_bayes import (\n",
        "    BernoulliNB, CategoricalNB, ComplementNB,\n",
        "    GaussianNB, MultinomialNB\n",
        ")\n",
        "from sklearn.tree import (\n",
        "    DecisionTreeClassifier, ExtraTreeClassifier\n",
        ")\n",
        "from sklearn.linear_model import (\n",
        "    LogisticRegression, LogisticRegressionCV, RidgeClassifier,\n",
        "    RidgeClassifierCV, SGDClassifier, PassiveAggressiveClassifier,\n",
        "    Perceptron\n",
        ")\n",
        "from sklearn.neighbors import (\n",
        "    KNeighborsClassifier, NearestCentroid, RadiusNeighborsClassifier\n",
        ")\n",
        "from sklearn.svm import (\n",
        "    LinearSVC, NuSVC, SVC\n",
        ")\n",
        "from sklearn.gaussian_process import GaussianProcessClassifier\n",
        "from sklearn.neural_network import MLPClassifier\n",
        "from sklearn.discriminant_analysis import (\n",
        "    LinearDiscriminantAnalysis, QuadraticDiscriminantAnalysis\n",
        ")\n",
        "from sklearn.multioutput import ClassifierChain\n",
        "from sklearn.semi_supervised import (\n",
        "    LabelPropagation, LabelSpreading\n",
        ")\n",
        "from sklearn.calibration import CalibratedClassifierCV\n",
        "from sklearn.dummy import DummyClassifier\n",
        "from sklearn.multiclass import (\n",
        "    OneVsOneClassifier, OneVsRestClassifier, OutputCodeClassifier\n",
        ")\n",
        "from sklearn.model_selection import train_test_split\n",
        "from sklearn.metrics import accuracy_score\n",
        "\n",
        "from xgboost import XGBClassifier\n",
        "from catboost import CatBoostClassifier\n"
      ]
    },
    {
      "cell_type": "code",
      "source": [
        "from sklearn.metrics import (\n",
        "    balanced_accuracy_score,\n",
        "    log_loss,\n",
        "    accuracy_score,\n",
        "    precision_score,\n",
        "    recall_score,\n",
        "    f1_score,\n",
        "    roc_auc_score,\n",
        "    confusion_matrix,\n",
        "    classification_report,\n",
        ")\n",
        "\n",
        "def extended_evaluate_model(name, model, X_test, y_test):\n",
        "    y_pred = model.predict(X_test)\n",
        "\n",
        "    # Check if the model has the predict_proba method\n",
        "    if hasattr(model, \"predict_proba\"):\n",
        "        y_proba = model.predict_proba(X_test)[:, 1]\n",
        "        # AUC-ROC and Log Loss metrics\n",
        "        roc_auc = roc_auc_score(y_test, y_proba)\n",
        "        logloss = log_loss(y_test, y_proba)\n",
        "    else:\n",
        "        y_proba = None  # Not applicable for models without predict_proba\n",
        "        roc_auc = None\n",
        "        logloss = None\n",
        "\n",
        "    # Standard metrics\n",
        "    accuracy = accuracy_score(y_test, y_pred)\n",
        "    precision = precision_score(y_test, y_pred)\n",
        "    recall = recall_score(y_test, y_pred)\n",
        "    f1 = f1_score(y_test, y_pred)\n",
        "    conf_matrix = confusion_matrix(y_test, y_pred)\n",
        "\n",
        "    # Additional metrics\n",
        "    balanced_acc = balanced_accuracy_score(y_test, y_pred)\n",
        "\n",
        "    # Print results\n",
        "    print(f\"{name} - Accuracy: {accuracy:.4f}\")\n",
        "    print(f\"{name} - Precision: {precision:.4f}\")\n",
        "    print(f\"{name} - Recall: {recall:.4f}\")\n",
        "    print(f\"{name} - F1 Score: {f1:.4f}\")\n",
        "\n",
        "    if roc_auc is not None:\n",
        "        print(f\"{name} - AUC-ROC: {roc_auc:.4f}\")\n",
        "        print(f\"{name} - Log Loss: {logloss:.4f}\")\n",
        "\n",
        "    print(f\"{name} - Balanced Accuracy: {balanced_acc:.4f}\")\n",
        "    print(f\"{name} - Confusion Matrix:\\n {conf_matrix}\")\n",
        "    print(\"\\n\")\n"
      ],
      "metadata": {
        "id": "YRAItY1ycsWP"
      },
      "execution_count": 10,
      "outputs": []
    },
    {
      "cell_type": "code",
      "execution_count": null,
      "metadata": {
        "id": "-Q5Lp4tHWpoj",
        "outputId": "21624f81-2d0a-4219-9551-42035d0ff211",
        "colab": {
          "base_uri": "https://localhost:8080/"
        }
      },
      "outputs": [
        {
          "output_type": "stream",
          "name": "stdout",
          "text": [
            "Starting modeling with AdaBoostClassifier...\n"
          ]
        },
        {
          "output_type": "stream",
          "name": "stderr",
          "text": [
            "/usr/local/lib/python3.10/dist-packages/sklearn/utils/validation.py:1339: DataConversionWarning: A column-vector y was passed when a 1d array was expected. Please change the shape of y to (n_samples, ), for example using ravel().\n",
            "  y = column_or_1d(y, warn=True)\n",
            "/usr/local/lib/python3.10/dist-packages/sklearn/ensemble/_weight_boosting.py:527: FutureWarning: The SAMME.R algorithm (the default) is deprecated and will be removed in 1.6. Use the SAMME algorithm to circumvent this warning.\n",
            "  warnings.warn(\n"
          ]
        },
        {
          "output_type": "stream",
          "name": "stdout",
          "text": [
            "AdaBoost - Accuracy: 0.9748\n",
            "AdaBoost - Precision: 0.8223\n",
            "AdaBoost - Recall: 0.9348\n",
            "AdaBoost - F1 Score: 0.8749\n",
            "AdaBoost - AUC-ROC: 0.9930\n",
            "AdaBoost - Log Loss: 0.3896\n",
            "AdaBoost - Balanced Accuracy: 0.9569\n",
            "AdaBoost - Confusion Matrix:\n",
            " [[232049   4985]\n",
            " [  1610  23068]]\n",
            "\n",
            "\n",
            "Starting modeling with BaggingClassifier...\n"
          ]
        },
        {
          "output_type": "stream",
          "name": "stderr",
          "text": [
            "/usr/local/lib/python3.10/dist-packages/sklearn/ensemble/_bagging.py:888: DataConversionWarning: A column-vector y was passed when a 1d array was expected. Please change the shape of y to (n_samples, ), for example using ravel().\n",
            "  y = column_or_1d(y, warn=True)\n"
          ]
        },
        {
          "output_type": "stream",
          "name": "stdout",
          "text": [
            "Bagging - Accuracy: 0.9732\n",
            "Bagging - Precision: 0.8511\n",
            "Bagging - Recall: 0.8675\n",
            "Bagging - F1 Score: 0.8592\n",
            "Bagging - AUC-ROC: 0.9893\n",
            "Bagging - Log Loss: 0.2047\n",
            "Bagging - Balanced Accuracy: 0.9258\n",
            "Bagging - Confusion Matrix:\n",
            " [[233289   3745]\n",
            " [  3270  21408]]\n",
            "\n",
            "\n",
            "Starting modeling with BernoulliNB...\n"
          ]
        },
        {
          "output_type": "stream",
          "name": "stderr",
          "text": [
            "/usr/local/lib/python3.10/dist-packages/sklearn/utils/validation.py:1339: DataConversionWarning: A column-vector y was passed when a 1d array was expected. Please change the shape of y to (n_samples, ), for example using ravel().\n",
            "  y = column_or_1d(y, warn=True)\n"
          ]
        },
        {
          "output_type": "stream",
          "name": "stdout",
          "text": [
            "BernoulliNB - Accuracy: 0.9680\n",
            "BernoulliNB - Precision: 0.8002\n",
            "BernoulliNB - Recall: 0.8804\n",
            "BernoulliNB - F1 Score: 0.8384\n",
            "BernoulliNB - AUC-ROC: 0.9892\n",
            "BernoulliNB - Log Loss: 0.0924\n",
            "BernoulliNB - Balanced Accuracy: 0.9288\n",
            "BernoulliNB - Confusion Matrix:\n",
            " [[231609   5425]\n",
            " [  2951  21727]]\n",
            "\n",
            "\n",
            "Starting modeling with CalibratedClassifierCV...\n"
          ]
        },
        {
          "output_type": "stream",
          "name": "stderr",
          "text": [
            "/usr/local/lib/python3.10/dist-packages/sklearn/preprocessing/_label.py:97: DataConversionWarning: A column-vector y was passed when a 1d array was expected. Please change the shape of y to (n_samples, ), for example using ravel().\n",
            "  y = column_or_1d(y, warn=True)\n",
            "/usr/local/lib/python3.10/dist-packages/sklearn/utils/validation.py:1339: DataConversionWarning: A column-vector y was passed when a 1d array was expected. Please change the shape of y to (n_samples, ), for example using ravel().\n",
            "  y = column_or_1d(y, warn=True)\n",
            "/usr/local/lib/python3.10/dist-packages/sklearn/utils/validation.py:1339: DataConversionWarning: A column-vector y was passed when a 1d array was expected. Please change the shape of y to (n_samples, ), for example using ravel().\n",
            "  y = column_or_1d(y, warn=True)\n",
            "/usr/local/lib/python3.10/dist-packages/sklearn/utils/validation.py:1339: DataConversionWarning: A column-vector y was passed when a 1d array was expected. Please change the shape of y to (n_samples, ), for example using ravel().\n",
            "  y = column_or_1d(y, warn=True)\n",
            "/usr/local/lib/python3.10/dist-packages/sklearn/utils/validation.py:1339: DataConversionWarning: A column-vector y was passed when a 1d array was expected. Please change the shape of y to (n_samples, ), for example using ravel().\n",
            "  y = column_or_1d(y, warn=True)\n",
            "/usr/local/lib/python3.10/dist-packages/sklearn/utils/validation.py:1339: DataConversionWarning: A column-vector y was passed when a 1d array was expected. Please change the shape of y to (n_samples, ), for example using ravel().\n",
            "  y = column_or_1d(y, warn=True)\n"
          ]
        },
        {
          "output_type": "stream",
          "name": "stdout",
          "text": [
            "CalibratedClassifierCV - Accuracy: 0.9686\n",
            "CalibratedClassifierCV - Precision: 0.8136\n",
            "CalibratedClassifierCV - Recall: 0.8647\n",
            "CalibratedClassifierCV - F1 Score: 0.8384\n",
            "CalibratedClassifierCV - AUC-ROC: 0.9889\n",
            "CalibratedClassifierCV - Log Loss: 0.0949\n",
            "CalibratedClassifierCV - Balanced Accuracy: 0.9220\n",
            "CalibratedClassifierCV - Confusion Matrix:\n",
            " [[232146   4888]\n",
            " [  3339  21339]]\n",
            "\n",
            "\n",
            "Starting modeling with DecisionTreeClassifier...\n",
            "DecisionTree - Accuracy: 0.9677\n",
            "DecisionTree - Precision: 0.8298\n",
            "DecisionTree - Recall: 0.8265\n",
            "DecisionTree - F1 Score: 0.8281\n",
            "DecisionTree - AUC-ROC: 0.9089\n",
            "DecisionTree - Log Loss: 1.1295\n",
            "DecisionTree - Balanced Accuracy: 0.9044\n",
            "DecisionTree - Confusion Matrix:\n",
            " [[232849   4185]\n",
            " [  4281  20397]]\n",
            "\n",
            "\n",
            "Starting modeling with DummyClassifier...\n"
          ]
        },
        {
          "output_type": "stream",
          "name": "stderr",
          "text": [
            "/usr/local/lib/python3.10/dist-packages/sklearn/metrics/_classification.py:1531: UndefinedMetricWarning: Precision is ill-defined and being set to 0.0 due to no predicted samples. Use `zero_division` parameter to control this behavior.\n",
            "  _warn_prf(average, modifier, f\"{metric.capitalize()} is\", len(result))\n"
          ]
        },
        {
          "output_type": "stream",
          "name": "stdout",
          "text": [
            "Dummy - Accuracy: 0.9057\n",
            "Dummy - Precision: 0.0000\n",
            "Dummy - Recall: 0.0000\n",
            "Dummy - F1 Score: 0.0000\n",
            "Dummy - AUC-ROC: 0.5000\n",
            "Dummy - Log Loss: 0.3124\n",
            "Dummy - Balanced Accuracy: 0.5000\n",
            "Dummy - Confusion Matrix:\n",
            " [[237034      0]\n",
            " [ 24678      0]]\n",
            "\n",
            "\n",
            "Starting modeling with ExtraTreeClassifier...\n",
            "ExtraTree - Accuracy: 0.9655\n",
            "ExtraTree - Precision: 0.8164\n",
            "ExtraTree - Recall: 0.8188\n",
            "ExtraTree - F1 Score: 0.8176\n",
            "ExtraTree - AUC-ROC: 0.9038\n",
            "ExtraTree - Log Loss: 1.2081\n",
            "ExtraTree - Balanced Accuracy: 0.8998\n",
            "ExtraTree - Confusion Matrix:\n",
            " [[232489   4545]\n",
            " [  4471  20207]]\n",
            "\n",
            "\n",
            "Starting modeling with ExtraTreesClassifier...\n"
          ]
        },
        {
          "output_type": "stream",
          "name": "stderr",
          "text": [
            "/usr/local/lib/python3.10/dist-packages/sklearn/base.py:1473: DataConversionWarning: A column-vector y was passed when a 1d array was expected. Please change the shape of y to (n_samples,), for example using ravel().\n",
            "  return fit_method(estimator, *args, **kwargs)\n"
          ]
        },
        {
          "output_type": "stream",
          "name": "stdout",
          "text": [
            "ExtraTrees - Accuracy: 0.9737\n",
            "ExtraTrees - Precision: 0.8429\n",
            "ExtraTrees - Recall: 0.8868\n",
            "ExtraTrees - F1 Score: 0.8643\n",
            "ExtraTrees - AUC-ROC: 0.9903\n",
            "ExtraTrees - Log Loss: 0.1337\n",
            "ExtraTrees - Balanced Accuracy: 0.9348\n",
            "ExtraTrees - Confusion Matrix:\n",
            " [[232955   4079]\n",
            " [  2793  21885]]\n",
            "\n",
            "\n",
            "Starting modeling with GradientBoostingClassifier...\n"
          ]
        },
        {
          "output_type": "stream",
          "name": "stderr",
          "text": [
            "/usr/local/lib/python3.10/dist-packages/sklearn/preprocessing/_label.py:114: DataConversionWarning: A column-vector y was passed when a 1d array was expected. Please change the shape of y to (n_samples, ), for example using ravel().\n",
            "  y = column_or_1d(y, warn=True)\n"
          ]
        },
        {
          "output_type": "stream",
          "name": "stdout",
          "text": [
            "GradientBoosting - Accuracy: 0.9759\n",
            "GradientBoosting - Precision: 0.8210\n",
            "GradientBoosting - Recall: 0.9517\n",
            "GradientBoosting - F1 Score: 0.8815\n",
            "GradientBoosting - AUC-ROC: 0.9936\n",
            "GradientBoosting - Log Loss: 0.0548\n",
            "GradientBoosting - Balanced Accuracy: 0.9650\n",
            "GradientBoosting - Confusion Matrix:\n",
            " [[231913   5121]\n",
            " [  1192  23486]]\n",
            "\n",
            "\n",
            "Starting modeling with HistGradientBoostingClassifier...\n"
          ]
        },
        {
          "output_type": "stream",
          "name": "stderr",
          "text": [
            "/usr/local/lib/python3.10/dist-packages/sklearn/utils/validation.py:1339: DataConversionWarning: A column-vector y was passed when a 1d array was expected. Please change the shape of y to (n_samples, ), for example using ravel().\n",
            "  y = column_or_1d(y, warn=True)\n"
          ]
        },
        {
          "output_type": "stream",
          "name": "stdout",
          "text": [
            "HistGradientBoosting - Accuracy: 0.9781\n",
            "HistGradientBoosting - Precision: 0.8432\n",
            "HistGradientBoosting - Recall: 0.9432\n",
            "HistGradientBoosting - F1 Score: 0.8904\n",
            "HistGradientBoosting - AUC-ROC: 0.9946\n",
            "HistGradientBoosting - Log Loss: 0.0500\n",
            "HistGradientBoosting - Balanced Accuracy: 0.9625\n",
            "HistGradientBoosting - Confusion Matrix:\n",
            " [[232706   4328]\n",
            " [  1401  23277]]\n",
            "\n",
            "\n",
            "Starting modeling with KNeighborsClassifier...\n"
          ]
        },
        {
          "output_type": "stream",
          "name": "stderr",
          "text": [
            "/usr/local/lib/python3.10/dist-packages/sklearn/neighbors/_classification.py:238: DataConversionWarning: A column-vector y was passed when a 1d array was expected. Please change the shape of y to (n_samples,), for example using ravel().\n",
            "  return self._fit(X, y)\n"
          ]
        }
      ],
      "source": [
        "models = [\n",
        "    ('AdaBoost', AdaBoostClassifier()),\n",
        "    ('Bagging', BaggingClassifier()),\n",
        "    ('BernoulliNB', BernoulliNB()),\n",
        "    ('CalibratedClassifierCV', CalibratedClassifierCV()),\n",
        "    ('DecisionTree', DecisionTreeClassifier()),\n",
        "    ('Dummy', DummyClassifier()),\n",
        "    ('ExtraTree', ExtraTreeClassifier()),\n",
        "    ('ExtraTrees', ExtraTreesClassifier()),\n",
        "    ('GradientBoosting', GradientBoostingClassifier()),\n",
        "    ('HistGradientBoosting', HistGradientBoostingClassifier()),\n",
        "    ('KNeighbors', KNeighborsClassifier()),\n",
        "    ('LinearDiscriminantAnalysis', LinearDiscriminantAnalysis()),\n",
        "    ('LogisticRegression', LogisticRegression(max_iter=5000)),\n",
        "    ('LogisticRegressionCV', LogisticRegressionCV(max_iter=5000)),\n",
        "    ('MultinomialNB', MultinomialNB()),\n",
        "    ('NearestCentroid', NearestCentroid()),\n",
        "    ('OneVsRestClassifier', OneVsRestClassifier(LogisticRegression(max_iter=5000))),\n",
        "    ('PassiveAggressive', PassiveAggressiveClassifier(max_iter=5000)),\n",
        "    ('Perceptron', Perceptron(max_iter=5000)),\n",
        "    ('QuadraticDiscriminantAnalysis', QuadraticDiscriminantAnalysis()),\n",
        "    ('RadiusNeighbors', RadiusNeighborsClassifier()),\n",
        "    ('RandomForest', RandomForestClassifier()),\n",
        "    ('RidgeClassifier', RidgeClassifier()),\n",
        "    ('RidgeClassifierCV', RidgeClassifierCV()),\n",
        "    ('SGDClassifier', SGDClassifier()),\n",
        "    ('StackingClassifier', StackingClassifier(estimators=[('lr', LogisticRegression(max_iter=5000)), ('rf', RandomForestClassifier())])),\n",
        "    ('XGBClassifier', XGBClassifier()),\n",
        "    ('CatBoost', CatBoostClassifier(verbose=0)),\n",
        "    ('ClassifierChain', ClassifierChain(base_estimator=LogisticRegression(max_iter=5000)))\n",
        "]\n",
        "\n",
        "\n",
        "model_accuracies = []\n",
        "\n",
        "for name,model in models:\n",
        "    model_name = model.__class__.__name__\n",
        "    print(f\"Starting modeling with {model_name}...\")\n",
        "    try:\n",
        "        model.fit(X_train, y_train)\n",
        "        extended_evaluate_model(name,model,X_test,y_test)\n",
        "\n",
        "    except Exception as e:\n",
        "        print(f\"Skipped {model_name} due to error: {str(e)}\")\n",
        "\n",
        "\n",
        "# model_accuracies.sort(key=lambda x: x[1], reverse=True)\n",
        "# print(\"\\nModel Accuracies:\")\n",
        "# for name, accuracy in model_accuracies:\n",
        "#     print(f\"{name}: {accuracy}\")\n"
      ]
    },
    {
      "cell_type": "code",
      "execution_count": null,
      "metadata": {
        "id": "ngH0olhvWpol"
      },
      "outputs": [],
      "source": []
    }
  ],
  "metadata": {
    "kernelspec": {
      "display_name": "Python 3 (ipykernel)",
      "language": "python",
      "name": "python3"
    },
    "language_info": {
      "codemirror_mode": {
        "name": "ipython",
        "version": 3
      },
      "file_extension": ".py",
      "mimetype": "text/x-python",
      "name": "python",
      "nbconvert_exporter": "python",
      "pygments_lexer": "ipython3",
      "version": "3.12.5"
    },
    "colab": {
      "provenance": [],
      "include_colab_link": true
    }
  },
  "nbformat": 4,
  "nbformat_minor": 0
}